{
 "cells": [
  {
   "cell_type": "markdown",
   "id": "815edc4a",
   "metadata": {},
   "source": [
    "**Q.1** Given a non-negative integer x, return the square root of x rounded down to the nearest integer. The returned integer should be non-negative as well. You must not use any built-in exponent function or operator. \n",
    "\n",
    " Example 1:\n",
    "Input: x = 4 Output: 2 Explanation: The square root of 4 is 2, so we return 2.\n",
    "Example 2:\n",
    "\n",
    "Input: x = 8 Output: 2 Explanation: The square root of 8 is 2.82842..., and since we round it down to the nearest integer, 2 is returned.\n",
    "Constraints:\n",
    "\n",
    "0 <= x <= 2^31 - 1"
   ]
  },
  {
   "cell_type": "code",
   "execution_count": 1,
   "id": "502ad47e",
   "metadata": {},
   "outputs": [],
   "source": [
    "# Ans.\n",
    "\n",
    "def my_sqrt(x):\n",
    "    if x <= 0:\n",
    "        return 0\n",
    "\n",
    "    start = 0\n",
    "    end = x\n",
    "    while start <= end:\n",
    "        mid = (start + end) // 2\n",
    "        if mid * mid <= x < (mid + 1) * (mid + 1):\n",
    "            return mid\n",
    "        elif x < mid * mid:\n",
    "            end = mid - 1\n",
    "        else:\n",
    "            start = mid + 1\n",
    "\n",
    "    return start\n"
   ]
  },
  {
   "cell_type": "code",
   "execution_count": 2,
   "id": "770d5a48",
   "metadata": {},
   "outputs": [
    {
     "data": {
      "text/plain": [
       "2"
      ]
     },
     "execution_count": 2,
     "metadata": {},
     "output_type": "execute_result"
    }
   ],
   "source": [
    ">>> my_sqrt(4)\n",
    "2\n",
    ">>> my_sqrt(8)\n",
    "2\n"
   ]
  },
  {
   "cell_type": "markdown",
   "id": "3660b756",
   "metadata": {},
   "source": [
    "**Q.2** You are given two non-empty linked lists representing two non-negative integers. The digits are stored in reverse order, and each of their nodes contains a single digit. Add the two numbers and return the sum as a linked list.\n",
    "\n",
    "You may assume the two numbers do not contain any leading zero, except the number 0 itself.\n",
    "\n",
    "\n",
    "Example 1:\n",
    "\n",
    "Input: l1 = [2,4,3], l2 = [5,6,4] Output: [7,0,8] Explanation: 342 + 465 = 807.\n",
    "\n",
    "Example 2:\n",
    "\n",
    "Input: l1 = [0], l2 = [0] Output: [0]\n",
    "\n",
    "Example 3:\n",
    "\n",
    "Input: l1 = [9,9,9,9,9,9,9], l2 = [9,9,9,9] Output: [8,9,9,9,0,0,0,1]\n",
    "\n",
    " \n",
    "\n",
    "Constraints:\n",
    "\n",
    "The number of nodes in each linked list is in the range [1, 100].\n",
    "0 <= Node.val <= 9 It is guaranteed that the list represents a number that does not have leading zeros."
   ]
  },
  {
   "cell_type": "code",
   "execution_count": 10,
   "id": "15c24b54",
   "metadata": {},
   "outputs": [
    {
     "name": "stdout",
     "output_type": "stream",
     "text": [
      "8 0 7\n"
     ]
    }
   ],
   "source": [
    "# Ans.\n",
    "\n",
    "class Node:\n",
    "    def __init__(self, val):\n",
    "        self.val = val\n",
    "        self.next = None\n",
    "\n",
    "def add_two_linked_lists(l1, l2):\n",
    "    carry = 0\n",
    "    result = None\n",
    "    p1 = l1\n",
    "    p2 = l2\n",
    "    while p1 or p2:\n",
    "        v1 = p1.val if p1 else 0\n",
    "        v2 = p2.val if p2 else 0\n",
    "        sum = v1 + v2 + carry\n",
    "        carry = sum // 10\n",
    "        new_node = Node(sum % 10)\n",
    "        if result is None:\n",
    "            result = new_node\n",
    "        else:\n",
    "            new_node.next = result\n",
    "            result = new_node\n",
    "        p1 = p1.next if p1 else None\n",
    "        p2 = p2.next if p2 else None\n",
    "\n",
    "    if carry:\n",
    "        new_node = Node(carry)\n",
    "        new_node.next = result\n",
    "        result = new_node\n",
    "\n",
    "    return result\n",
    "\n",
    "def main():\n",
    "    l1 = Node(2)\n",
    "    l1.next = Node(4)\n",
    "    l1.next.next = Node(3)\n",
    "    l2 = Node(5)\n",
    "    l2.next = Node(6)\n",
    "    l2.next.next = Node(4)\n",
    "    result = add_two_linked_lists(l1, l2)\n",
    "    print(result.val, result.next.val, result.next.next.val)\n",
    "\n",
    "if __name__ == \"__main__\":\n",
    "    main()\n"
   ]
  },
  {
   "cell_type": "code",
   "execution_count": null,
   "id": "cc2742b2",
   "metadata": {},
   "outputs": [],
   "source": [
    "\n"
   ]
  },
  {
   "cell_type": "code",
   "execution_count": null,
   "id": "4c1d5449",
   "metadata": {},
   "outputs": [],
   "source": []
  }
 ],
 "metadata": {
  "kernelspec": {
   "display_name": "Python 3 (ipykernel)",
   "language": "python",
   "name": "python3"
  },
  "language_info": {
   "codemirror_mode": {
    "name": "ipython",
    "version": 3
   },
   "file_extension": ".py",
   "mimetype": "text/x-python",
   "name": "python",
   "nbconvert_exporter": "python",
   "pygments_lexer": "ipython3",
   "version": "3.10.9"
  }
 },
 "nbformat": 4,
 "nbformat_minor": 5
}
